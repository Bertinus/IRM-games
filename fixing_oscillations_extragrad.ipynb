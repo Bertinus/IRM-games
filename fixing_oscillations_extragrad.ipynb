{
 "cells": [
  {
   "cell_type": "code",
   "execution_count": 1,
   "metadata": {},
   "outputs": [],
   "source": [
    "%reload_ext autoreload\n",
    "%autoreload 2"
   ]
  },
  {
   "cell_type": "code",
   "execution_count": 2,
   "metadata": {},
   "outputs": [],
   "source": [
    "from data_construct import * ## contains functions for constructing data \n",
    "from IRM_methods import *    ## contains IRM games methods \n",
    "from models import *\n",
    "from optim import *"
   ]
  },
  {
   "cell_type": "markdown",
   "metadata": {},
   "source": [
    "import tensorflow as tf\n",
    "import torch\n",
    "from torch import nn\n",
    "import numpy as np\n",
    "import matplotlib.pyplot as plt\n",
    "from sklearn.model_selection import train_test_split\n",
    "from sklearn.utils import shuffle\n",
    "import pandas as pd\n",
    "import tensorflow as tf\n",
    "tf.compat.v1.enable_eager_execution()\n",
    "import copy as cp\n",
    "from sklearn.model_selection import KFold"
   ]
  },
  {
   "cell_type": "markdown",
   "metadata": {},
   "source": [
    "# MNIST digits:  2 environments\n",
    "\n",
    "Below we illustrate how to use our IRM methods. \n",
    "We first setup the data in the cell below.  We set p_color_list = [0.2, 0.1] \n",
    "(from experiments in Arjovsky et.al.); note that there is marginal difference between the probabilities of \n",
    "switching the labels in the two environments. This marginal difference is useful for IRM methods to learn \n",
    "invariant predictors across environments that exploit the shape of digits and not the color. "
   ]
  },
  {
   "cell_type": "code",
   "execution_count": 3,
   "metadata": {},
   "outputs": [],
   "source": [
    "# Create data for each environment\n",
    "\n",
    "n_env = 2  # number of environments\n",
    "\n",
    "p_color_list = [0.2, 0.1] # list of probabilities of switching the final label to obtain the color index\n",
    "p_label_list = [0.25] * n_env # list of probabilities of switching pre-label\n",
    "D = assemble_data_mnist() # initialize mnist digits data object\n",
    "\n",
    "D.create_training_data(n_env, p_color_list, p_label_list) # creates the training environments\n",
    "\n",
    "p_label_test = 0.25 # probability of switching pre-label in test environment\n",
    "p_color_test = 0.9  # probability of switching the final label to obtain the color index in test environment\n",
    "\n",
    "D.create_testing_data(p_color_test, p_label_test, n_env)  # sets up the testing environment\n",
    "(n_examples,length, width, height) = D.data_tuple_list[0][0].shape # attributes of the data\n",
    "n_classes = len(np.unique(D.data_tuple_list[0][1])) # number of classes in the data"
   ]
  },
  {
   "cell_type": "markdown",
   "metadata": {},
   "source": [
    "### Select other hyper-parameters for the F-IRM game\n"
   ]
  },
  {
   "cell_type": "code",
   "execution_count": 4,
   "metadata": {},
   "outputs": [],
   "source": [
    "n_epochs         = 2\n",
    "batch_size       = 256\n",
    "termination_acc  = 0.6\n",
    "warm_start       = 100\n",
    "learning_rate    = 2.5e-4\n",
    "beta_1           = 0.9\n",
    "optimizer_name   = \"Adam\"\n",
    "module_name      = \"pytorch\"\n",
    "#module_name      = \"pytorch\""
   ]
  },
  {
   "cell_type": "markdown",
   "metadata": {},
   "source": [
    "### Create the models and the optimizers"
   ]
  },
  {
   "cell_type": "code",
   "execution_count": 5,
   "metadata": {},
   "outputs": [],
   "source": [
    "models = create_models(module_name=module_name, \n",
    "                       n_env=n_env, \n",
    "                       length=length, \n",
    "                       width=width, \n",
    "                       height=height, \n",
    "                       n_classes=n_classes)"
   ]
  },
  {
   "cell_type": "code",
   "execution_count": 6,
   "metadata": {},
   "outputs": [],
   "source": [
    "if module_name == \"pytorch\":\n",
    "    params = [models[i_env].parameters() for i_env in range(n_env)]\n",
    "else:\n",
    "    params = None\n",
    "    \n",
    "optimizers = create_optimizers(module_name=module_name, \n",
    "                               optimizer_name=optimizer_name,\n",
    "                               n_env=n_env, \n",
    "                               learning_rate=learning_rate,\n",
    "                               beta_1=beta_1, \n",
    "                               params=params)"
   ]
  },
  {
   "cell_type": "markdown",
   "metadata": {},
   "source": [
    "### Initialize F-IRM model, fit and evaluate"
   ]
  },
  {
   "cell_type": "code",
   "execution_count": 7,
   "metadata": {
    "scrolled": true
   },
   "outputs": [
    {
     "name": "stdout",
     "output_type": "stream",
     "text": [
      "Epoch 1/2...\n"
     ]
    },
    {
     "data": {
      "application/vnd.jupyter.widget-view+json": {
       "model_id": "a1c3d3a5fdc24f78b2419d175b8ba309",
       "version_major": 2,
       "version_minor": 0
      },
      "text/plain": [
       "HBox(children=(FloatProgress(value=0.0, max=118.0), HTML(value='')))"
      ]
     },
     "metadata": {},
     "output_type": "display_data"
    },
    {
     "name": "stdout",
     "output_type": "stream",
     "text": [
      "\n",
      "Epoch 2/2...\n"
     ]
    },
    {
     "data": {
      "application/vnd.jupyter.widget-view+json": {
       "model_id": "e79a18baf3c24ba09af4df89228e8ee5",
       "version_major": 2,
       "version_minor": 0
      },
      "text/plain": [
       "HBox(children=(FloatProgress(value=0.0, max=118.0), HTML(value='')))"
      ]
     },
     "metadata": {},
     "output_type": "display_data"
    },
    {
     "name": "stdout",
     "output_type": "stream",
     "text": [
      "\n",
      "Training accuracy: 0.8485\n",
      "Testing accuracy: 0.1039\n"
     ]
    }
   ],
   "source": [
    "if module_name == \"tensorflow\":\n",
    "    game = TensorflowIrmGame\n",
    "else:\n",
    "    game = PytorchIrmGame\n",
    "\n",
    "# initialize F-IRM model (we pass the hyper-parameters that we chose above)\n",
    "F_game = game(models=models, \n",
    "              optimizers=optimizers, \n",
    "              n_epochs=n_epochs,\n",
    "              batch_size=batch_size, \n",
    "              termination_acc=termination_acc, \n",
    "              warm_start=warm_start) \n",
    "\n",
    "# fit function runs the training on the data that we created\n",
    "F_game.fit(data_tuple_train=D.data_tuple_list,\n",
    "           data_tuple_test=D.data_tuple_test)"
   ]
  },
  {
   "cell_type": "code",
   "execution_count": 8,
   "metadata": {
    "scrolled": true
   },
   "outputs": [
    {
     "data": {
      "text/plain": [
       "[<matplotlib.lines.Line2D at 0x1a587796d0>]"
      ]
     },
     "execution_count": 8,
     "metadata": {},
     "output_type": "execute_result"
    },
    {
     "data": {
      "image/png": "[encoded data removed]",
      "text/plain": [
       "<Figure size 432x288 with 1 Axes>"
      ]
     },
     "metadata": {
      "needs_background": "light"
     },
     "output_type": "display_data"
    }
   ],
   "source": [
    "plt.xlabel(\"Training steps\")\n",
    "plt.ylabel(\"Training accuracy\")\n",
    "plt.plot(F_game.train_accs)"
   ]
  },
  {
   "cell_type": "code",
   "execution_count": null,
   "metadata": {},
   "outputs": [],
   "source": []
  },
  {
   "cell_type": "code",
   "execution_count": null,
   "metadata": {},
   "outputs": [],
   "source": []
  },
  {
   "cell_type": "code",
   "execution_count": null,
   "metadata": {},
   "outputs": [],
   "source": []
  },
  {
   "cell_type": "code",
   "execution_count": null,
   "metadata": {},
   "outputs": [],
   "source": []
  },
  {
   "cell_type": "code",
   "execution_count": null,
   "metadata": {},
   "outputs": [],
   "source": []
  },
  {
   "cell_type": "code",
   "execution_count": 7,
   "metadata": {
    "scrolled": true
   },
   "outputs": [
    {
     "name": "stdout",
     "output_type": "stream",
     "text": [
      "Epoch 1/2...\n"
     ]
    },
    {
     "data": {
      "application/vnd.jupyter.widget-view+json": {
       "model_id": "",
       "version_major": 2,
       "version_minor": 0
      },
      "text/plain": [
       "HBox(children=(FloatProgress(value=0.0, max=118.0), HTML(value='')))"
      ]
     },
     "metadata": {},
     "output_type": "display_data"
    },
    {
     "name": "stdout",
     "output_type": "stream",
     "text": [
      "\n",
      "Epoch 2/2...\n"
     ]
    },
    {
     "data": {
      "application/vnd.jupyter.widget-view+json": {
       "model_id": "",
       "version_major": 2,
       "version_minor": 0
      },
      "text/plain": [
       "HBox(children=(FloatProgress(value=0.0, max=118.0), HTML(value='')))"
      ]
     },
     "metadata": {},
     "output_type": "display_data"
    },
    {
     "name": "stdout",
     "output_type": "stream",
     "text": [
      "Early termination.\n",
      "\n",
      "Training accuracy: 0.5597\n",
      "Testing accuracy: 0.6749\n"
     ]
    }
   ],
   "source": [
    "if module_name == \"tensorflow\":\n",
    "    game = TensorflowIrmGame\n",
    "else:\n",
    "    game = PytorchIrmGame\n",
    "\n",
    "# initialize F-IRM model (we pass the hyper-parameters that we chose above)\n",
    "F_game = game(models=models, \n",
    "              optimizers=optimizers, \n",
    "              n_epochs=n_epochs,\n",
    "              batch_size=batch_size, \n",
    "              termination_acc=termination_acc, \n",
    "              warm_start=warm_start) \n",
    "\n",
    "# fit function runs the training on the data that we created\n",
    "F_game.fit(data_tuple_train=D.data_tuple_list,\n",
    "           data_tuple_test=D.data_tuple_test)"
   ]
  },
  {
   "cell_type": "code",
   "execution_count": 8,
   "metadata": {
    "scrolled": true
   },
   "outputs": [
    {
     "data": {
      "text/plain": [
       "[<matplotlib.lines.Line2D at 0x1a4b50e810>]"
      ]
     },
     "execution_count": 8,
     "metadata": {},
     "output_type": "execute_result"
    },
    {
     "data": {
      "image/png": "[encoded data removed]",
      "text/plain": [
       "<Figure size 432x288 with 1 Axes>"
      ]
     },
     "metadata": {
      "needs_background": "light"
     },
     "output_type": "display_data"
    }
   ],
   "source": [
    "plt.xlabel(\"Training steps\")\n",
    "plt.ylabel(\"Training accuracy\")\n",
    "plt.plot(F_game.train_accs)"
   ]
  }
 ],
 "metadata": {
  "kernelspec": {
   "display_name": "Python 3",
   "language": "python",
   "name": "python3"
  },
  "language_info": {
   "codemirror_mode": {
    "name": "ipython",
    "version": 3
   },
   "file_extension": ".py",
   "mimetype": "text/x-python",
   "name": "python",
   "nbconvert_exporter": "python",
   "pygments_lexer": "ipython3",
   "version": "3.7.7"
  }
 },
 "nbformat": 4,
 "nbformat_minor": 4
}
